{
 "cells": [
  {
   "cell_type": "code",
   "execution_count": 1,
   "metadata": {},
   "outputs": [],
   "source": [
    "import pandas as pd\n",
    "import matplotlib.pyplot as plt\n",
    "import seaborn as sns\n",
    "from datetime import datetime, timedelta"
   ]
  },
  {
   "cell_type": "code",
   "execution_count": 2,
   "metadata": {},
   "outputs": [],
   "source": [
    "data = pd.read_csv('https://impfdashboard.de/static/data/germany_deliveries_timeseries_v2.tsv', sep='\\t')"
   ]
  },
  {
   "cell_type": "code",
   "execution_count": 3,
   "metadata": {},
   "outputs": [
    {
     "data": {
      "text/html": [
       "<div>\n",
       "<style scoped>\n",
       "    .dataframe tbody tr th:only-of-type {\n",
       "        vertical-align: middle;\n",
       "    }\n",
       "\n",
       "    .dataframe tbody tr th {\n",
       "        vertical-align: top;\n",
       "    }\n",
       "\n",
       "    .dataframe thead th {\n",
       "        text-align: right;\n",
       "    }\n",
       "</style>\n",
       "<table border=\"1\" class=\"dataframe\">\n",
       "  <thead>\n",
       "    <tr style=\"text-align: right;\">\n",
       "      <th></th>\n",
       "      <th>date</th>\n",
       "      <th>impfstoff</th>\n",
       "      <th>region</th>\n",
       "      <th>dosen</th>\n",
       "      <th>week</th>\n",
       "    </tr>\n",
       "  </thead>\n",
       "  <tbody>\n",
       "    <tr>\n",
       "      <th>705</th>\n",
       "      <td>2021-04-25</td>\n",
       "      <td>johnson</td>\n",
       "      <td>DE-TH</td>\n",
       "      <td>4800</td>\n",
       "      <td>16</td>\n",
       "    </tr>\n",
       "    <tr>\n",
       "      <th>706</th>\n",
       "      <td>2021-04-25</td>\n",
       "      <td>comirnaty</td>\n",
       "      <td>DE-BUND</td>\n",
       "      <td>21060</td>\n",
       "      <td>16</td>\n",
       "    </tr>\n",
       "    <tr>\n",
       "      <th>707</th>\n",
       "      <td>2021-04-25</td>\n",
       "      <td>moderna</td>\n",
       "      <td>DE-BUND</td>\n",
       "      <td>72000</td>\n",
       "      <td>16</td>\n",
       "    </tr>\n",
       "    <tr>\n",
       "      <th>708</th>\n",
       "      <td>2021-04-25</td>\n",
       "      <td>astra</td>\n",
       "      <td>DE-BUND</td>\n",
       "      <td>9600</td>\n",
       "      <td>16</td>\n",
       "    </tr>\n",
       "    <tr>\n",
       "      <th>709</th>\n",
       "      <td>2021-04-25</td>\n",
       "      <td>johnson</td>\n",
       "      <td>DE-BUND</td>\n",
       "      <td>24000</td>\n",
       "      <td>16</td>\n",
       "    </tr>\n",
       "  </tbody>\n",
       "</table>\n",
       "</div>"
      ],
      "text/plain": [
       "          date  impfstoff   region  dosen  week\n",
       "705 2021-04-25    johnson    DE-TH   4800    16\n",
       "706 2021-04-25  comirnaty  DE-BUND  21060    16\n",
       "707 2021-04-25    moderna  DE-BUND  72000    16\n",
       "708 2021-04-25      astra  DE-BUND   9600    16\n",
       "709 2021-04-25    johnson  DE-BUND  24000    16"
      ]
     },
     "execution_count": 3,
     "metadata": {},
     "output_type": "execute_result"
    }
   ],
   "source": [
    "data['date'] = pd.to_datetime(data.date)\n",
    "data['week'] = data.date.apply(lambda x: x.week)\n",
    "data.tail()\n"
   ]
  },
  {
   "cell_type": "code",
   "execution_count": 4,
   "metadata": {},
   "outputs": [],
   "source": [
    "g = data.groupby(['date', 'impfstoff', 'week']).sum().reset_index().sort_values('date')"
   ]
  },
  {
   "cell_type": "code",
   "execution_count": 5,
   "metadata": {},
   "outputs": [
    {
     "data": {
      "image/png": "[encoded data removed]",
      "text/plain": [
       "<Figure size 432x288 with 1 Axes>"
      ]
     },
     "metadata": {
      "needs_background": "light"
     },
     "output_type": "display_data"
    }
   ],
   "source": [
    "for i in g.impfstoff.unique():\n",
    "    #i = 'comirnaty'\n",
    "    g_supplier = g[g.impfstoff == i].copy()\n",
    "    plt.step(g_supplier.date, g_supplier.dosen.cumsum(), where='post', label=i)\n",
    "\n",
    "g_total = data.groupby('date').sum().reset_index().sort_values('date')\n",
    "g_total['date'] = pd.to_datetime(g_total.date)\n",
    "g_total.loc[:,'c'] = g_total.dosen.cumsum()\n",
    "plt.step(g_total.date, g_total.c, where='post', label='sum')\n",
    "\n",
    "plt.ticklabel_format(useOffset=False, style='sci', axis='y')\n",
    "plt.legend()\n",
    "plt.xticks(rotation=45)\n",
    "plt.show()"
   ]
  },
  {
   "cell_type": "code",
   "execution_count": 6,
   "metadata": {},
   "outputs": [],
   "source": [
    "weekly = g.groupby(['week', 'impfstoff'])\n",
    "weekly = pd.DataFrame({'date': weekly.date.min(), 'dosen': weekly.dosen.sum()}).reset_index().sort_values('date')\n"
   ]
  },
  {
   "cell_type": "code",
   "execution_count": 7,
   "metadata": {},
   "outputs": [
    {
     "data": {
      "text/html": [
       "<div>\n",
       "<style scoped>\n",
       "    .dataframe tbody tr th:only-of-type {\n",
       "        vertical-align: middle;\n",
       "    }\n",
       "\n",
       "    .dataframe tbody tr th {\n",
       "        vertical-align: top;\n",
       "    }\n",
       "\n",
       "    .dataframe thead th {\n",
       "        text-align: right;\n",
       "    }\n",
       "</style>\n",
       "<table border=\"1\" class=\"dataframe\">\n",
       "  <thead>\n",
       "    <tr style=\"text-align: right;\">\n",
       "      <th></th>\n",
       "      <th>date</th>\n",
       "      <th>Week</th>\n",
       "      <th>BNT/Pfizer</th>\n",
       "      <th>Moderna</th>\n",
       "      <th>Oxford/AZ</th>\n",
       "      <th>Janssen/J&amp;J</th>\n",
       "    </tr>\n",
       "  </thead>\n",
       "  <tbody>\n",
       "    <tr>\n",
       "      <th>0</th>\n",
       "      <td>2020-12-14</td>\n",
       "      <td>51</td>\n",
       "      <td>NaN</td>\n",
       "      <td>NaN</td>\n",
       "      <td>NaN</td>\n",
       "      <td>NaN</td>\n",
       "    </tr>\n",
       "    <tr>\n",
       "      <th>1</th>\n",
       "      <td>2020-12-21</td>\n",
       "      <td>52</td>\n",
       "      <td>151125.0</td>\n",
       "      <td>NaN</td>\n",
       "      <td>NaN</td>\n",
       "      <td>NaN</td>\n",
       "    </tr>\n",
       "    <tr>\n",
       "      <th>2</th>\n",
       "      <td>2020-12-28</td>\n",
       "      <td>53</td>\n",
       "      <td>1174875.0</td>\n",
       "      <td>NaN</td>\n",
       "      <td>NaN</td>\n",
       "      <td>NaN</td>\n",
       "    </tr>\n",
       "    <tr>\n",
       "      <th>3</th>\n",
       "      <td>2021-01-04</td>\n",
       "      <td>1</td>\n",
       "      <td>687375.0</td>\n",
       "      <td>NaN</td>\n",
       "      <td>NaN</td>\n",
       "      <td>NaN</td>\n",
       "    </tr>\n",
       "    <tr>\n",
       "      <th>4</th>\n",
       "      <td>2021-01-11</td>\n",
       "      <td>2</td>\n",
       "      <td>NaN</td>\n",
       "      <td>63600.0</td>\n",
       "      <td>NaN</td>\n",
       "      <td>NaN</td>\n",
       "    </tr>\n",
       "  </tbody>\n",
       "</table>\n",
       "</div>"
      ],
      "text/plain": [
       "        date  Week  BNT/Pfizer  Moderna  Oxford/AZ  Janssen/J&J\n",
       "0 2020-12-14    51         NaN      NaN        NaN          NaN\n",
       "1 2020-12-21    52    151125.0      NaN        NaN          NaN\n",
       "2 2020-12-28    53   1174875.0      NaN        NaN          NaN\n",
       "3 2021-01-04     1    687375.0      NaN        NaN          NaN\n",
       "4 2021-01-11     2         NaN  63600.0        NaN          NaN"
      ]
     },
     "execution_count": 7,
     "metadata": {},
     "output_type": "execute_result"
    }
   ],
   "source": [
    "all_weeks = pd.Series([pd.to_datetime('2020-12-14')+timedelta(weeks=x) for x in range(39)])\n",
    "all_week_starts = all_weeks.apply(lambda x: x.week)\n",
    "\n",
    "all_weeks = pd.DataFrame({'date': all_weeks, 'week': all_week_starts})\n",
    "\n",
    "for i in weekly.impfstoff.unique():\n",
    "    all_weeks = all_weeks.merge(weekly[weekly.impfstoff == i], on='week', how='left', suffixes=[None, '_'+i])\n",
    "\n",
    "\n",
    "weekly_shipments = pd.DataFrame({'date': all_weeks.date, 'Week': all_weeks.week, 'BNT/Pfizer': all_weeks.dosen, 'Moderna': all_weeks.dosen_moderna, 'Oxford/AZ': all_weeks.dosen_astra, 'Janssen/J&J': all_weeks.dosen_johnson})\n",
    "weekly_shipments.head()"
   ]
  },
  {
   "cell_type": "code",
   "execution_count": 8,
   "metadata": {},
   "outputs": [
    {
     "name": "stdout",
     "output_type": "stream",
     "text": [
      "\n",
      "\n",
      "\n"
     ]
    },
    {
     "data": {
      "image/png": "[encoded data removed]",
      "text/plain": [
       "<Figure size 936x432 with 1 Axes>"
      ]
     },
     "metadata": {},
     "output_type": "display_data"
    },
    {
     "name": "stdout",
     "output_type": "stream",
     "text": [
      "\n",
      "\n",
      "\n"
     ]
    }
   ],
   "source": [
    "print('')\n",
    "print('')\n",
    "print('')\n",
    "sns.set(font_scale=1.25)\n",
    "sns.set_style(\"whitegrid\")\n",
    "ax = weekly_shipments[['Week', 'BNT/Pfizer', 'Moderna', 'Oxford/AZ', 'Janssen/J&J']].head(26).set_index('Week').plot(kind='bar', stacked=True, figsize=(13,6))\n",
    "plt.ticklabel_format(useOffset=False, style='plain', axis='y')\n",
    "\n",
    "plt.ylabel('# Doses')\n",
    "sns.despine(left=True)\n",
    "\n",
    "plt.suptitle('Vaccine Doses Shipped to Germany by Calendar Week', fontsize=23)\n",
    "plt.title('Data from impfdashboard.de/daten', fontsize=9)\n",
    "\n",
    "handles, labels = ax.get_legend_handles_labels()\n",
    "ax.legend(reversed(handles), reversed(labels), loc='upper right')\n",
    "\n",
    "plt.show()\n",
    "print('')\n",
    "print('')\n",
    "print('')"
   ]
  },
  {
   "cell_type": "code",
   "execution_count": null,
   "metadata": {},
   "outputs": [],
   "source": []
  }
 ],
 "metadata": {
  "kernelspec": {
   "display_name": "Python 3",
   "language": "python",
   "name": "python3"
  },
  "language_info": {
   "codemirror_mode": {
    "name": "ipython",
    "version": 3
   },
   "file_extension": ".py",
   "mimetype": "text/x-python",
   "name": "python",
   "nbconvert_exporter": "python",
   "pygments_lexer": "ipython3",
   "version": "3.8.5"
  }
 },
 "nbformat": 4,
 "nbformat_minor": 4
}
